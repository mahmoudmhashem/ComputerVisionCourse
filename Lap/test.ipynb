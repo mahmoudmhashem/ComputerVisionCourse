{
 "cells": [
  {
   "cell_type": "code",
   "execution_count": 5,
   "metadata": {},
   "outputs": [],
   "source": [
    "class Add:\n",
    "    def forward(self, a, b):\n",
    "        result = a + b  # Perform addition\n",
    "        return result\n",
    "\n",
    "    def __call__(self, arg):\n",
    "        return self.forward(*arg)"
   ]
  },
  {
   "cell_type": "code",
   "execution_count": 7,
   "metadata": {},
   "outputs": [
    {
     "data": {
      "text/plain": [
       "8"
      ]
     },
     "execution_count": 7,
     "metadata": {},
     "output_type": "execute_result"
    }
   ],
   "source": [
    "add = Add()\n",
    "add((3, 5))\n",
    "add.__call__((3, 5))"
   ]
  },
  {
   "cell_type": "code",
   "execution_count": 25,
   "metadata": {},
   "outputs": [],
   "source": [
    "from operations import Ops, Operation\n",
    "ops = Ops()\n",
    "\n",
    "class Test:\n",
    "    def __init__(self, x, children=(), op:Operation = None):\n",
    "        self.x = x\n",
    "        self.op = op\n",
    "        self.children = children\n",
    "        self.op_name = op.op_name if op is not None else \"\"\n",
    "    \n",
    "    def __repr__(self):\n",
    "        return f\"Test(x={self.x}, children={self.children}, op_name={self.op_name})\"\n",
    "\n",
    "    def __add__(self, other:\"Test\"):\n",
    "        if not isinstance(other, Test):\n",
    "            other = Test(other)\n",
    "        result = ops.add(self.x, other.x)\n",
    "        out_children = (self, other)\n",
    "        out = Test(x = result, children=(self, other), op=ops.add)\n",
    "        return out\n",
    "    \n",
    "    def __mul__(self, other):\n",
    "        result = ops.mul(self.x, other.x)\n",
    "        out_children = (self, other)\n",
    "        out = Test(x = result, children=out_children, op=ops.mul)\n",
    "        return out\n",
    "    \n",
    "    def backward(self, output_grad):\n",
    "        return self.op.backward(output_grad)"
   ]
  },
  {
   "cell_type": "code",
   "execution_count": 27,
   "metadata": {},
   "outputs": [
    {
     "ename": "AttributeError",
     "evalue": "'Test' object has no attribute 'exp'",
     "output_type": "error",
     "traceback": [
      "\u001b[0;31m---------------------------------------------------------------------------\u001b[0m",
      "\u001b[0;31mAttributeError\u001b[0m                            Traceback (most recent call last)",
      "Cell \u001b[0;32mIn[27], line 1\u001b[0m\n\u001b[0;32m----> 1\u001b[0m \u001b[43mTest\u001b[49m\u001b[43m(\u001b[49m\u001b[38;5;241;43m5\u001b[39;49m\u001b[43m)\u001b[49m\u001b[38;5;241;43m.\u001b[39;49m\u001b[43mexp\u001b[49m() \u001b[38;5;66;03m# e^5\u001b[39;00m\n\u001b[1;32m      2\u001b[0m Test(\u001b[38;5;241m5\u001b[39m)\u001b[38;5;241m.\u001b[39mpow(\u001b[38;5;241m2\u001b[39m) \u001b[38;5;66;03m# 5^2\u001b[39;00m\n\u001b[1;32m      3\u001b[0m Test(\u001b[38;5;241m5\u001b[39m)\u001b[38;5;241m.\u001b[39m\u001b[38;5;21m__add__\u001b[39m(\u001b[38;5;241m10\u001b[39m) \u001b[38;5;66;03m# 5 + 10\u001b[39;00m\n",
      "\u001b[0;31mAttributeError\u001b[0m: 'Test' object has no attribute 'exp'"
     ]
    }
   ],
   "source": [
    "Test(5).exp() # e^5\n",
    "Test(5).pow(2) # 5^2\n",
    "Test(5).__add__(10) # 5 + 10\n"
   ]
  },
  {
   "cell_type": "markdown",
   "metadata": {},
   "source": [
    "dydx3 = 1\n",
    "dx3dx1 = 1\n",
    "dydx1 = dydx3 * dx3dx1 =\n",
    "      = 1     *   1    = 1\n",
    "\n",
    "dydx4 = 1\n",
    "dx4dx1 = x2\n",
    "dydx1 = dydx4 * dx4dx1 =\n",
    "      = 1     *   x2    = x2\n",
    "\n",
    "dydx1 = x2 + 1"
   ]
  },
  {
   "cell_type": "code",
   "execution_count": null,
   "metadata": {},
   "outputs": [
    {
     "data": {
      "text/plain": [
       "(1, 1)"
      ]
     },
     "execution_count": 31,
     "metadata": {},
     "output_type": "execute_result"
    }
   ],
   "source": [
    "x1 = Test(13)\n",
    "x2 = Test(5)\n",
    "\n",
    "x3 = x1 + x2\n",
    "x4 = x1 * x2\n",
    "\n",
    "\n",
    "\n",
    "\n",
    "y = x3 + x4\n",
    "y.backward(1)"
   ]
  },
  {
   "cell_type": "code",
   "execution_count": null,
   "metadata": {},
   "outputs": [
    {
     "data": {
      "text/plain": [
       "Test(x=18, children=(Test(x=13, children=(), op_name=), Test(x=5, children=(), op_name=)), op_name=add)"
      ]
     },
     "execution_count": 28,
     "metadata": {},
     "output_type": "execute_result"
    }
   ],
   "source": []
  },
  {
   "cell_type": "code",
   "execution_count": 12,
   "metadata": {},
   "outputs": [
    {
     "data": {
      "text/plain": [
       "(Test(x=18), Test(x=3))"
      ]
     },
     "execution_count": 12,
     "metadata": {},
     "output_type": "execute_result"
    }
   ],
   "source": [
    "y.children"
   ]
  },
  {
   "cell_type": "code",
   "execution_count": 11,
   "metadata": {},
   "outputs": [
    {
     "name": "stdout",
     "output_type": "stream",
     "text": [
      "(1, 1)\n",
      "(3, 18)\n"
     ]
    }
   ],
   "source": [
    "print(y1.backward(1))\n",
    "print(y2.backward(1))"
   ]
  },
  {
   "cell_type": "code",
   "execution_count": null,
   "metadata": {},
   "outputs": [],
   "source": []
  }
 ],
 "metadata": {
  "kernelspec": {
   "display_name": "mh",
   "language": "python",
   "name": "python3"
  },
  "language_info": {
   "codemirror_mode": {
    "name": "ipython",
    "version": 3
   },
   "file_extension": ".py",
   "mimetype": "text/x-python",
   "name": "python",
   "nbconvert_exporter": "python",
   "pygments_lexer": "ipython3",
   "version": "3.10.12"
  }
 },
 "nbformat": 4,
 "nbformat_minor": 2
}
